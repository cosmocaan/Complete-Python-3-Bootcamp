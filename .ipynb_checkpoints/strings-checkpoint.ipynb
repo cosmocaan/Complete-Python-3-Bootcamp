{
 "cells": [
  {
   "cell_type": "code",
   "execution_count": 1,
   "id": "1b98dc0d-4ad0-4cc5-9810-4cec90ae1260",
   "metadata": {},
   "outputs": [
    {
     "data": {
      "text/plain": [
       "'hello'"
      ]
     },
     "execution_count": 1,
     "metadata": {},
     "output_type": "execute_result"
    }
   ],
   "source": [
    "'hello'"
   ]
  },
  {
   "cell_type": "code",
   "execution_count": 2,
   "id": "505c8952-3ee5-442c-9acf-b617f532e81c",
   "metadata": {},
   "outputs": [
    {
     "data": {
      "text/plain": [
       "'world'"
      ]
     },
     "execution_count": 2,
     "metadata": {},
     "output_type": "execute_result"
    }
   ],
   "source": [
    "\"world\""
   ]
  },
  {
   "cell_type": "code",
   "execution_count": 3,
   "id": "f3f0b17a-cb02-4be6-8b81-26cf656c14e7",
   "metadata": {},
   "outputs": [
    {
     "data": {
      "text/plain": [
       "'THIS IS A STRING TOO'"
      ]
     },
     "execution_count": 3,
     "metadata": {},
     "output_type": "execute_result"
    }
   ],
   "source": [
    "'THIS IS A STRING TOO'"
   ]
  },
  {
   "cell_type": "code",
   "execution_count": 4,
   "id": "4bebabe1-81e7-4755-b4ee-df7f38eada01",
   "metadata": {},
   "outputs": [
    {
     "data": {
      "text/plain": [
       "\" I'm going on a run\""
      ]
     },
     "execution_count": 4,
     "metadata": {},
     "output_type": "execute_result"
    }
   ],
   "source": [
    "\" I'm going on a run\""
   ]
  },
  {
   "cell_type": "code",
   "execution_count": 5,
   "id": "b44a0956-8dc5-4f41-80e7-0fc90aa16f72",
   "metadata": {},
   "outputs": [
    {
     "name": "stdout",
     "output_type": "stream",
     "text": [
      "hello\n"
     ]
    }
   ],
   "source": [
    "print(\"hello\")"
   ]
  },
  {
   "cell_type": "code",
   "execution_count": 9,
   "id": "a21b62fc-2eed-49ae-b431-b9a3eac7adf4",
   "metadata": {},
   "outputs": [
    {
     "name": "stdout",
     "output_type": "stream",
     "text": [
      "hello world one\n",
      "hello world two\n"
     ]
    }
   ],
   "source": [
    "print(\"hello world one\")\n",
    "print(\"hello world two\")"
   ]
  },
  {
   "cell_type": "code",
   "execution_count": 10,
   "id": "b8a31d9d-0ca1-4a07-a671-749a52c4f98e",
   "metadata": {},
   "outputs": [
    {
     "name": "stdout",
     "output_type": "stream",
     "text": [
      "hello \n",
      " world\n"
     ]
    }
   ],
   "source": [
    "print('hello \\n world')"
   ]
  },
  {
   "cell_type": "code",
   "execution_count": 11,
   "id": "fb11c925-6274-4e7c-b803-2dfe1ad95452",
   "metadata": {},
   "outputs": [
    {
     "name": "stdout",
     "output_type": "stream",
     "text": [
      "hello \t world\n"
     ]
    }
   ],
   "source": [
    "print('hello \\t world')"
   ]
  },
  {
   "cell_type": "code",
   "execution_count": 12,
   "id": "9715a9e9-61b2-44e3-bb09-8c988fa3803b",
   "metadata": {},
   "outputs": [
    {
     "data": {
      "text/plain": [
       "5"
      ]
     },
     "execution_count": 12,
     "metadata": {},
     "output_type": "execute_result"
    }
   ],
   "source": [
    "len('hello')"
   ]
  },
  {
   "cell_type": "code",
   "execution_count": 13,
   "id": "df1305eb-2315-4d64-9a9d-657e8ef0e94d",
   "metadata": {},
   "outputs": [
    {
     "data": {
      "text/plain": [
       "4"
      ]
     },
     "execution_count": 13,
     "metadata": {},
     "output_type": "execute_result"
    }
   ],
   "source": [
    "len('I am')"
   ]
  },
  {
   "cell_type": "markdown",
   "id": "68d46766-c315-4814-84ac-1773a41dab50",
   "metadata": {},
   "source": [
    "String indexing and string slicing"
   ]
  },
  {
   "cell_type": "code",
   "execution_count": 14,
   "id": "2e8d885a-90dc-4464-9cd0-8a53677dd290",
   "metadata": {},
   "outputs": [],
   "source": [
    "mystring = \"Hello World\""
   ]
  },
  {
   "cell_type": "code",
   "execution_count": 15,
   "id": "e0f86944-ba21-4239-a8ac-cf0e84a2813a",
   "metadata": {},
   "outputs": [
    {
     "data": {
      "text/plain": [
       "'Hello World'"
      ]
     },
     "execution_count": 15,
     "metadata": {},
     "output_type": "execute_result"
    }
   ],
   "source": [
    "mystring"
   ]
  },
  {
   "cell_type": "code",
   "execution_count": 16,
   "id": "3f30f332-6890-4e2a-a7aa-6962363bf819",
   "metadata": {},
   "outputs": [
    {
     "data": {
      "text/plain": [
       "'H'"
      ]
     },
     "execution_count": 16,
     "metadata": {},
     "output_type": "execute_result"
    }
   ],
   "source": [
    "mystring[0]"
   ]
  },
  {
   "cell_type": "code",
   "execution_count": 17,
   "id": "74d14a97-e193-45e1-b488-886a136fc75a",
   "metadata": {},
   "outputs": [
    {
     "data": {
      "text/plain": [
       "'r'"
      ]
     },
     "execution_count": 17,
     "metadata": {},
     "output_type": "execute_result"
    }
   ],
   "source": [
    "mystring[8]"
   ]
  },
  {
   "cell_type": "code",
   "execution_count": 18,
   "id": "99ef15ca-11a1-4c9c-b65a-5b307b174fff",
   "metadata": {},
   "outputs": [
    {
     "data": {
      "text/plain": [
       "'l'"
      ]
     },
     "execution_count": 18,
     "metadata": {},
     "output_type": "execute_result"
    }
   ],
   "source": [
    "mystring[9]"
   ]
  },
  {
   "cell_type": "code",
   "execution_count": 19,
   "id": "c3e5bed1-5f53-4bb0-ab88-b080e2a28404",
   "metadata": {},
   "outputs": [
    {
     "data": {
      "text/plain": [
       "'l'"
      ]
     },
     "execution_count": 19,
     "metadata": {},
     "output_type": "execute_result"
    }
   ],
   "source": [
    "mystring[-2]"
   ]
  },
  {
   "cell_type": "code",
   "execution_count": null,
   "id": "c3ddabdd-411b-4243-903f-6522f67965e1",
   "metadata": {},
   "outputs": [],
   "source": []
  }
 ],
 "metadata": {
  "kernelspec": {
   "display_name": "Python 3 (ipykernel)",
   "language": "python",
   "name": "python3"
  },
  "language_info": {
   "codemirror_mode": {
    "name": "ipython",
    "version": 3
   },
   "file_extension": ".py",
   "mimetype": "text/x-python",
   "name": "python",
   "nbconvert_exporter": "python",
   "pygments_lexer": "ipython3",
   "version": "3.10.9"
  }
 },
 "nbformat": 4,
 "nbformat_minor": 5
}
