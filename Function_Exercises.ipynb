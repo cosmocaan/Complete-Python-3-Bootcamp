{
 "cells": [
  {
   "cell_type": "code",
   "execution_count": 8,
   "id": "73c1830e-19dc-45d7-a07d-0c120e07ca5c",
   "metadata": {},
   "outputs": [],
   "source": [
    "def myfunc():\n",
    "    print('Hello World')"
   ]
  },
  {
   "cell_type": "code",
   "execution_count": 9,
   "id": "884fe1bd-6090-4166-8683-c6b1a23c2c68",
   "metadata": {},
   "outputs": [
    {
     "name": "stdout",
     "output_type": "stream",
     "text": [
      "Hello World\n"
     ]
    }
   ],
   "source": [
    "myfunc()"
   ]
  },
  {
   "cell_type": "code",
   "execution_count": 30,
   "id": "de974658-e910-4542-b9d2-0114f44d2dce",
   "metadata": {},
   "outputs": [],
   "source": [
    "def myfunc(name):\n",
    "    print('Hello ' + name)"
   ]
  },
  {
   "cell_type": "code",
   "execution_count": 31,
   "id": "d811e0b6-4bb1-448e-814c-8d8b9f364c52",
   "metadata": {},
   "outputs": [
    {
     "name": "stdout",
     "output_type": "stream",
     "text": [
      "Hello Cosmo\n"
     ]
    }
   ],
   "source": [
    "myfunc('Cosmo')"
   ]
  },
  {
   "cell_type": "code",
   "execution_count": 46,
   "id": "168dacc3-24fa-4854-93ac-4e8d8367b59c",
   "metadata": {},
   "outputs": [],
   "source": [
    "def myfunc(a):\n",
    "    if a == True:\n",
    "        print('Hello')\n",
    "    elif a == False:\n",
    "        print('Goodbye')\n",
    "    else:\n",
    "        pass"
   ]
  },
  {
   "cell_type": "code",
   "execution_count": 38,
   "id": "d6d8e9a4-8b41-4fd4-bbfe-23ac2832fa02",
   "metadata": {},
   "outputs": [
    {
     "name": "stdout",
     "output_type": "stream",
     "text": [
      "Hello\n"
     ]
    }
   ],
   "source": [
    "myfunc(True)"
   ]
  },
  {
   "cell_type": "code",
   "execution_count": 39,
   "id": "bb2a6bcf-0d3d-4d66-84b3-19420de5a138",
   "metadata": {},
   "outputs": [
    {
     "name": "stdout",
     "output_type": "stream",
     "text": [
      "Goodbye\n"
     ]
    }
   ],
   "source": [
    "myfunc(False)"
   ]
  },
  {
   "cell_type": "code",
   "execution_count": 49,
   "id": "d3b43cf3-872a-458b-a11c-e7c081af56aa",
   "metadata": {},
   "outputs": [],
   "source": [
    "def myfunc(x,y,z):\n",
    "    if z == True:\n",
    "        return x\n",
    "    elif z == False:\n",
    "        return y"
   ]
  },
  {
   "cell_type": "code",
   "execution_count": 50,
   "id": "a1307d16-61bf-4f64-9a97-1248635e6283",
   "metadata": {},
   "outputs": [
    {
     "data": {
      "text/plain": [
       "5"
      ]
     },
     "execution_count": 50,
     "metadata": {},
     "output_type": "execute_result"
    }
   ],
   "source": [
    "myfunc(5,10,True)"
   ]
  },
  {
   "cell_type": "code",
   "execution_count": 51,
   "id": "f763fcf7-7a6e-4166-876f-28b483b28ef1",
   "metadata": {},
   "outputs": [
    {
     "data": {
      "text/plain": [
       "10"
      ]
     },
     "execution_count": 51,
     "metadata": {},
     "output_type": "execute_result"
    }
   ],
   "source": [
    "myfunc(5,10,False)"
   ]
  },
  {
   "cell_type": "code",
   "execution_count": 52,
   "id": "8ec5e5d9-704b-4c7f-a22d-1da1a50b70d6",
   "metadata": {},
   "outputs": [],
   "source": [
    "def myfunc(a,b):\n",
    "    return a+b"
   ]
  },
  {
   "cell_type": "code",
   "execution_count": 53,
   "id": "44733136-0ace-4cdf-83d2-330540701619",
   "metadata": {},
   "outputs": [
    {
     "data": {
      "text/plain": [
       "4"
      ]
     },
     "execution_count": 53,
     "metadata": {},
     "output_type": "execute_result"
    }
   ],
   "source": [
    "myfunc(2,2)"
   ]
  },
  {
   "cell_type": "code",
   "execution_count": 57,
   "id": "09c0ca6f-68a3-4f92-b1e7-87c6f85e28ab",
   "metadata": {},
   "outputs": [],
   "source": [
    "def is_even(num):\n",
    "    if num%2 == 0:\n",
    "        return True\n",
    "    else:\n",
    "        return False"
   ]
  },
  {
   "cell_type": "code",
   "execution_count": 58,
   "id": "4b8df6a9-4352-4df6-b78b-43e07b88d594",
   "metadata": {},
   "outputs": [
    {
     "data": {
      "text/plain": [
       "False"
      ]
     },
     "execution_count": 58,
     "metadata": {},
     "output_type": "execute_result"
    }
   ],
   "source": [
    "is_even(3)"
   ]
  },
  {
   "cell_type": "code",
   "execution_count": 59,
   "id": "cc2a38dd-a202-49bb-abcd-ad44e25bb29f",
   "metadata": {},
   "outputs": [
    {
     "data": {
      "text/plain": [
       "True"
      ]
     },
     "execution_count": 59,
     "metadata": {},
     "output_type": "execute_result"
    }
   ],
   "source": [
    "is_even(2)"
   ]
  },
  {
   "cell_type": "code",
   "execution_count": 62,
   "id": "840cb1fb-a6d9-4d87-bf15-193631e891db",
   "metadata": {},
   "outputs": [],
   "source": [
    "def is_greater(a,b):\n",
    "    if a > b:\n",
    "        return True\n",
    "    else:\n",
    "        return False"
   ]
  },
  {
   "cell_type": "code",
   "execution_count": 64,
   "id": "577137e4-5ceb-43de-81c3-d8576c79f670",
   "metadata": {},
   "outputs": [
    {
     "data": {
      "text/plain": [
       "False"
      ]
     },
     "execution_count": 64,
     "metadata": {},
     "output_type": "execute_result"
    }
   ],
   "source": [
    "is_greater(5,9)"
   ]
  },
  {
   "cell_type": "code",
   "execution_count": 65,
   "id": "3b8e46cc-1a18-439f-806d-3229f657a58d",
   "metadata": {},
   "outputs": [
    {
     "data": {
      "text/plain": [
       "True"
      ]
     },
     "execution_count": 65,
     "metadata": {},
     "output_type": "execute_result"
    }
   ],
   "source": [
    "is_greater(9,5)"
   ]
  },
  {
   "cell_type": "code",
   "execution_count": 1,
   "id": "04a5b926-e757-442b-9b4c-cfe891c293ce",
   "metadata": {},
   "outputs": [],
   "source": [
    "def myfunc(*args):\n",
    "    return sum(args)"
   ]
  },
  {
   "cell_type": "code",
   "execution_count": 2,
   "id": "3ca0a4cc-2c3d-4b64-816d-7a2228da3c9c",
   "metadata": {},
   "outputs": [
    {
     "data": {
      "text/plain": [
       "25"
      ]
     },
     "execution_count": 2,
     "metadata": {},
     "output_type": "execute_result"
    }
   ],
   "source": [
    "myfunc(5,5,5,5,5)"
   ]
  },
  {
   "cell_type": "code",
   "execution_count": 31,
   "id": "2360b048-8943-4661-ba91-1c89a6f53d89",
   "metadata": {},
   "outputs": [],
   "source": [
    "def myfunc(*args):\n",
    "    evens = []\n",
    "    \n",
    "    for num in args:\n",
    "        if num % 2 == 0:\n",
    "            evens.append(num)\n",
    "        elif num % 2 != 0:\n",
    "                pass\n",
    "    return evens        "
   ]
  },
  {
   "cell_type": "code",
   "execution_count": 32,
   "id": "9cf20468-1118-4177-b672-6453a791b4e3",
   "metadata": {},
   "outputs": [
    {
     "data": {
      "text/plain": [
       "[2, 4]"
      ]
     },
     "execution_count": 32,
     "metadata": {},
     "output_type": "execute_result"
    }
   ],
   "source": [
    "myfunc(1,2,3,4,5)"
   ]
  },
  {
   "cell_type": "code",
   "execution_count": 95,
   "id": "6c2beb32-63aa-46d5-8d0a-d1fbdd9f9076",
   "metadata": {},
   "outputs": [],
   "source": [
    "def myfunc(word):\n",
    "    output = \"\"\n",
    "    cap = True\n",
    "    for letter in word:\n",
    "        if cap:\n",
    "            output += letter.lower()\n",
    "        else:\n",
    "            output += letter.upper()\n",
    "        if letter.isalpha():\n",
    "            cap = not cap\n",
    "            \n",
    "    return output\n"
   ]
  },
  {
   "cell_type": "code",
   "execution_count": 97,
   "id": "75f4e509-f135-4d4d-8612-0832567c0b09",
   "metadata": {},
   "outputs": [
    {
     "data": {
      "text/plain": [
       "'aBeRcRoMbIe'"
      ]
     },
     "execution_count": 97,
     "metadata": {},
     "output_type": "execute_result"
    }
   ],
   "source": [
    "myfunc('abercrombie')"
   ]
  },
  {
   "cell_type": "code",
   "execution_count": null,
   "id": "65a6d86e-302a-4971-9075-4aab39192516",
   "metadata": {},
   "outputs": [],
   "source": []
  }
 ],
 "metadata": {
  "kernelspec": {
   "display_name": "Python 3 (ipykernel)",
   "language": "python",
   "name": "python3"
  },
  "language_info": {
   "codemirror_mode": {
    "name": "ipython",
    "version": 3
   },
   "file_extension": ".py",
   "mimetype": "text/x-python",
   "name": "python",
   "nbconvert_exporter": "python",
   "pygments_lexer": "ipython3",
   "version": "3.9.13"
  }
 },
 "nbformat": 4,
 "nbformat_minor": 5
}
